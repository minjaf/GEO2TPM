{
 "cells": [
  {
   "cell_type": "code",
   "execution_count": 1,
   "id": "a12af70e-e3ab-4bab-9b6f-d4911c540d7e",
   "metadata": {
    "tags": []
   },
   "outputs": [
    {
     "name": "stdout",
     "output_type": "stream",
     "text": [
      "--2024-05-23 19:06:42--  https://genome-idx.s3.amazonaws.com/hisat/mm10_genome.tar.gz\n",
      "Resolving genome-idx.s3.amazonaws.com (genome-idx.s3.amazonaws.com)... 3.5.29.95, 3.5.28.182, 3.5.30.217, ...\n",
      "Connecting to genome-idx.s3.amazonaws.com (genome-idx.s3.amazonaws.com)|3.5.29.95|:443... connected.\n",
      "HTTP request sent, awaiting response... 200 OK\n",
      "Length: 3804366597 (3.5G) [binary/octet-stream]\n",
      "Saving to: ‘data/mm10_genome.tar.gz’\n",
      "\n",
      "mm10_genome.tar.gz  100%[===================>]   3.54G  22.5MB/s    in 2m 53s  \n",
      "\n",
      "2024-05-23 19:09:36 (21.0 MB/s) - ‘data/mm10_genome.tar.gz’ saved [3804366597/3804366597]\n",
      "\n"
     ]
    }
   ],
   "source": [
    "!wget https://genome-idx.s3.amazonaws.com/hisat/mm10_genome.tar.gz -P data/"
   ]
  },
  {
   "cell_type": "code",
   "execution_count": 2,
   "id": "5c2a8a36-982f-4183-a2f8-3431bd500c39",
   "metadata": {
    "tags": []
   },
   "outputs": [
    {
     "name": "stdout",
     "output_type": "stream",
     "text": [
      "mm10/\n",
      "mm10/genome.8.ht2\n",
      "mm10/genome.5.ht2\n",
      "mm10/make_mm10.sh\n",
      "mm10/genome.7.ht2\n",
      "mm10/genome.6.ht2\n",
      "mm10/genome.4.ht2\n",
      "mm10/genome.3.ht2\n",
      "mm10/genome.1.ht2\n",
      "mm10/genome.2.ht2\n"
     ]
    }
   ],
   "source": [
    "!tar -xvf data/mm10_genome.tar.gz"
   ]
  },
  {
   "cell_type": "code",
   "execution_count": 3,
   "id": "a4901d5b-9b35-42b1-b27c-8354bd464da5",
   "metadata": {
    "tags": []
   },
   "outputs": [
    {
     "name": "stdout",
     "output_type": "stream",
     "text": [
      "--2024-05-23 19:20:35--  https://cloud.biohpc.swmed.edu/index.php/s/oTtGWbWjaxsQ2Ho/download\n",
      "Resolving cloud.biohpc.swmed.edu (cloud.biohpc.swmed.edu)... 129.112.9.92\n",
      "Connecting to cloud.biohpc.swmed.edu (cloud.biohpc.swmed.edu)|129.112.9.92|:443... failed: Connection timed out.\n",
      "Retrying.\n",
      "\n",
      "--2024-05-23 19:22:51--  (try: 2)  https://cloud.biohpc.swmed.edu/index.php/s/oTtGWbWjaxsQ2Ho/download\n",
      "Connecting to cloud.biohpc.swmed.edu (cloud.biohpc.swmed.edu)|129.112.9.92|:443... failed: Connection timed out.\n",
      "Retrying.\n",
      "\n",
      "--2024-05-23 19:25:03--  (try: 3)  https://cloud.biohpc.swmed.edu/index.php/s/oTtGWbWjaxsQ2Ho/download\n",
      "Connecting to cloud.biohpc.swmed.edu (cloud.biohpc.swmed.edu)|129.112.9.92|:443... failed: Connection timed out.\n",
      "Retrying.\n",
      "\n",
      "--2024-05-23 19:27:17--  (try: 4)  https://cloud.biohpc.swmed.edu/index.php/s/oTtGWbWjaxsQ2Ho/download\n",
      "Connecting to cloud.biohpc.swmed.edu (cloud.biohpc.swmed.edu)|129.112.9.92|:443... ^C\n"
     ]
    }
   ],
   "source": [
    "!wget https://cloud.biohpc.swmed.edu/index.php/s/oTtGWbWjaxsQ2Ho/download"
   ]
  },
  {
   "cell_type": "code",
   "execution_count": 8,
   "id": "b9ec89c6-4630-41e1-ba24-661ba5561fa7",
   "metadata": {
    "tags": []
   },
   "outputs": [],
   "source": [
    "srr = \"SRR501033\"\n",
    "import os"
   ]
  },
  {
   "cell_type": "code",
   "execution_count": 9,
   "id": "c2c9dac7-7335-4821-86d0-aea783d3495c",
   "metadata": {
    "tags": []
   },
   "outputs": [],
   "source": [
    "def get_fastq(accession, fastq_path):\n",
    "    results = []\n",
    "    accessions = accession.split(\"-\")\n",
    "    for acc in accessions:\n",
    "        print (f\"prefetch acc: {acc}\")\n",
    "        exit_status = os.system(f\"prefetch {acc} --output-directory {fastq_path}\")\n",
    "        assert exit_status == 0, f\"Non-zero exist_status for file {acc}: {exit_status}\"\n",
    "    sra_files = []\n",
    "    for dirpath, dirnames, filenames in os.walk(fastq_path):\n",
    "        sra_files += [os.path.join(dirpath,f) for f in filenames if f.endswith(\"sra\")]\n",
    "    assert len(sra_files) > 0\n",
    "    print (sra_files)\n",
    "    for sra_file in sra_files:\n",
    "        print (f\"Running: fasterq-dump {sra_file} --outdir {fastq_path}\")\n",
    "        exit_status = os.system(f\"fasterq-dump {sra_file} --outdir {fastq_path}\")\n",
    "        assert exit_status == 0, f\"Non-zero fasterq-dump exist_status for file {sra_file}: {exit_status}\"\n",
    "        has_paired = len([f for f in os.listdir(fastq_path) \\\n",
    "                          if f.endswith(\".fastq\") and (f.find(\"_1\")!=-1 or f.find(\"_2\")!=-1)])\n",
    "        if has_paired:\n",
    "            to_remove = [fastq_path + \"/\" + f for f in os.listdir(fastq_path) \\\n",
    "                          if f.endswith(\".fastq\") and (f.find(\"_1\")==-1 and f.find(\"_2\")==-1)]\n",
    "            if len(to_remove) != 0:\n",
    "                print (f\"Warning! Both paired and unpaired fastq found for {sra_file}\")\n",
    "                print (\"Following files will be removed: \",to_remove)\n",
    "                os.system(\"rm \"+\" \".join(to_remove))"
   ]
  },
  {
   "cell_type": "code",
   "execution_count": 10,
   "id": "1ffabf09-fa37-407b-88fe-9054ac981c0d",
   "metadata": {
    "tags": []
   },
   "outputs": [
    {
     "name": "stdout",
     "output_type": "stream",
     "text": [
      "CPU times: user 3 µs, sys: 0 ns, total: 3 µs\n",
      "Wall time: 6.91 µs\n",
      "prefetch acc: SRR501033\n",
      "\n",
      "2024-05-23T16:40:00 prefetch.3.1.0: Current preference is set to retrieve SRA Normalized Format files with full base quality scores.\n",
      "2024-05-23T16:40:00 prefetch.3.1.0: 1) Downloading 'SRR501033'...\n",
      "2024-05-23T16:40:00 prefetch.3.1.0: SRA Normalized Format file is being retrieved, if this is different from your preference, it may be due to current file availability.\n",
      "2024-05-23T16:40:00 prefetch.3.1.0:  Downloading via HTTPS...\n",
      "2024-05-23T16:42:01 prefetch.3.1.0:  HTTPS download succeed\n",
      "2024-05-23T16:42:06 prefetch.3.1.0:  'SRR501033' is valid\n",
      "2024-05-23T16:42:06 prefetch.3.1.0: 1) 'SRR501033' was downloaded successfully\n",
      "['fastq/SRR501033/SRR501033.sra']\n",
      "Running: fasterq-dump fastq/SRR501033/SRR501033.sra --outdir fastq\n"
     ]
    },
    {
     "name": "stderr",
     "output_type": "stream",
     "text": [
      "spots read      : 63,982,189\n",
      "reads read      : 63,982,189\n",
      "reads written   : 63,982,189\n"
     ]
    },
    {
     "ename": "UnboundLocalError",
     "evalue": "local variable 'to_remove' referenced before assignment",
     "output_type": "error",
     "traceback": [
      "\u001b[0;31m---------------------------------------------------------------------------\u001b[0m",
      "\u001b[0;31mUnboundLocalError\u001b[0m                         Traceback (most recent call last)",
      "\u001b[0;32m/tmp/ipykernel_8205/3528334485.py\u001b[0m in \u001b[0;36m<module>\u001b[0;34m\u001b[0m\n\u001b[1;32m      1\u001b[0m \u001b[0mget_ipython\u001b[0m\u001b[0;34m(\u001b[0m\u001b[0;34m)\u001b[0m\u001b[0;34m.\u001b[0m\u001b[0mrun_line_magic\u001b[0m\u001b[0;34m(\u001b[0m\u001b[0;34m'time'\u001b[0m\u001b[0;34m,\u001b[0m \u001b[0;34m''\u001b[0m\u001b[0;34m)\u001b[0m\u001b[0;34m\u001b[0m\u001b[0;34m\u001b[0m\u001b[0m\n\u001b[0;32m----> 2\u001b[0;31m \u001b[0mget_fastq\u001b[0m\u001b[0;34m(\u001b[0m\u001b[0msrr\u001b[0m\u001b[0;34m,\u001b[0m \u001b[0;34m\"fastq\"\u001b[0m\u001b[0;34m)\u001b[0m\u001b[0;34m\u001b[0m\u001b[0;34m\u001b[0m\u001b[0m\n\u001b[0m",
      "\u001b[0;32m/tmp/ipykernel_8205/2661365467.py\u001b[0m in \u001b[0;36mget_fastq\u001b[0;34m(accession, fastq_path)\u001b[0m\n\u001b[1;32m     20\u001b[0m             to_remove = [fastq_path + \"/\" + f for f in os.listdir(fastq_path) \\\n\u001b[1;32m     21\u001b[0m                           if f.endswith(\".fastq\") and (f.find(\"_1\")==-1 and f.find(\"_2\")==-1)]\n\u001b[0;32m---> 22\u001b[0;31m         \u001b[0;32mif\u001b[0m \u001b[0mlen\u001b[0m\u001b[0;34m(\u001b[0m\u001b[0mto_remove\u001b[0m\u001b[0;34m)\u001b[0m \u001b[0;34m!=\u001b[0m \u001b[0;36m0\u001b[0m\u001b[0;34m:\u001b[0m\u001b[0;34m\u001b[0m\u001b[0;34m\u001b[0m\u001b[0m\n\u001b[0m\u001b[1;32m     23\u001b[0m             \u001b[0mprint\u001b[0m \u001b[0;34m(\u001b[0m\u001b[0;34mf\"Warning! Both paired and unpaired fastq found for {sra_file}\"\u001b[0m\u001b[0;34m)\u001b[0m\u001b[0;34m\u001b[0m\u001b[0;34m\u001b[0m\u001b[0m\n\u001b[1;32m     24\u001b[0m             \u001b[0mprint\u001b[0m \u001b[0;34m(\u001b[0m\u001b[0;34m\"Following files will be removed: \"\u001b[0m\u001b[0;34m,\u001b[0m\u001b[0mto_remove\u001b[0m\u001b[0;34m)\u001b[0m\u001b[0;34m\u001b[0m\u001b[0;34m\u001b[0m\u001b[0m\n",
      "\u001b[0;31mUnboundLocalError\u001b[0m: local variable 'to_remove' referenced before assignment"
     ]
    }
   ],
   "source": [
    "%time\n",
    "get_fastq(srr, \"fastq\")"
   ]
  },
  {
   "cell_type": "code",
   "execution_count": 11,
   "id": "0c5f8bf3-bdd9-44d9-b2de-f6b8f47c1666",
   "metadata": {
    "tags": []
   },
   "outputs": [],
   "source": [
    "# Running: fasterq-dump fastq/SRR501033/SRR501033.sra --outdir fastq # ~8 min"
   ]
  },
  {
   "cell_type": "code",
   "execution_count": 12,
   "id": "d3bcf904-951c-4ea1-b1c8-b475aa392599",
   "metadata": {
    "tags": []
   },
   "outputs": [
    {
     "name": "stdout",
     "output_type": "stream",
     "text": [
      "--2024-05-23 20:14:45--  https://ftp.ebi.ac.uk/pub/databases/gencode/Gencode_mouse/release_M10/gencode.vM10.annotation.gff3.gz\n",
      "Resolving ftp.ebi.ac.uk (ftp.ebi.ac.uk)... 193.62.193.165\n",
      "Connecting to ftp.ebi.ac.uk (ftp.ebi.ac.uk)|193.62.193.165|:443... connected.\n",
      "HTTP request sent, awaiting response... 200 OK\n",
      "Length: 29493796 (28M) [application/x-gzip]\n",
      "Saving to: ‘data/gencode.vM10.annotation.gff3.gz’\n",
      "\n",
      "gencode.vM10.annota 100%[===================>]  28.13M  1.06MB/s    in 27s     \n",
      "\n",
      "2024-05-23 20:15:12 (1.06 MB/s) - ‘data/gencode.vM10.annotation.gff3.gz’ saved [29493796/29493796]\n",
      "\n"
     ]
    }
   ],
   "source": [
    "!wget https://ftp.ebi.ac.uk/pub/databases/gencode/Gencode_mouse/release_M10/gencode.vM10.annotation.gff3.gz -P data"
   ]
  },
  {
   "cell_type": "code",
   "execution_count": null,
   "id": "e6b09682-1e16-4604-8170-7f83b8e320ac",
   "metadata": {},
   "outputs": [],
   "source": [
    "##### Align ####\n",
    "# !date; hisat2 -p 16 -x data/mm10/genome -U fastq/SRR501033.fastq | samtools view -b > fastq/SRR501033.bam; date;\n",
    "\n",
    "# Thu May 23 20:09:43 MSK 2024\n",
    "\n",
    "\n",
    "# 63982189 reads; of these:\n",
    "#   63982189 (100.00%) were unpaired; of these:\n",
    "#     21606569 (33.77%) aligned 0 times\n",
    "#     36570469 (57.16%) aligned exactly 1 time\n",
    "#     5805151 (9.07%) aligned >1 times\n",
    "# 66.23% overall alignment rate\n",
    "# Thu May 23 20:25:08 MSK 2024\n"
   ]
  },
  {
   "cell_type": "code",
   "execution_count": null,
   "id": "a4f89ebc-a596-4321-a80f-67c92edbd5af",
   "metadata": {},
   "outputs": [],
   "source": [
    "##### samtools #####\n",
    "# (base) vsfishman@bio-dna:~/GEO2TPM$ date; samtools sort -@ 16 fastq/SRR501033.bam > fastq/SRR501033.sorted.bam; date\n",
    "# Thu May 23 20:26:10 MSK 2024\n",
    "# [bam_sort_core] merging from 16 files and 16 in-memory blocks...\n",
    "# Thu May 23 20:28:33 MSK 2024\n"
   ]
  },
  {
   "cell_type": "code",
   "execution_count": null,
   "id": "f27b9875-958c-4aa1-b831-dabd11afe15f",
   "metadata": {},
   "outputs": [],
   "source": [
    "# (base) vsfishman@bio-dna:~/GEO2TPM$ date; stringtie -e -G data/gencode.vM10.annotation.gff3 fastq/SRR501033.sorted.bam -o fastq/SRR501033.gff; date\n",
    "# Thu May 23 20:31:13 MSK 2024\n",
    "# Thu May 23 20:34:04 MSK 2024\n"
   ]
  }
 ],
 "metadata": {
  "kernelspec": {
   "display_name": "Python 3 (ipykernel)",
   "language": "python",
   "name": "python3"
  },
  "language_info": {
   "codemirror_mode": {
    "name": "ipython",
    "version": 3
   },
   "file_extension": ".py",
   "mimetype": "text/x-python",
   "name": "python",
   "nbconvert_exporter": "python",
   "pygments_lexer": "ipython3",
   "version": "3.7.5"
  }
 },
 "nbformat": 4,
 "nbformat_minor": 5
}
